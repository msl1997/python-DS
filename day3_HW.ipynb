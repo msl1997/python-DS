{
 "cells": [
  {
   "cell_type": "markdown",
   "metadata": {
    "id": "rY2oyzUo2wKZ"
   },
   "source": [
    "作業目標:<br>\n",
    "嘗試練習log的函式並應用<br>\n",
    "作業重點:<br>\n",
    "學員需要複習log的轉換方式<br>\n",
    "熟悉運用指數函數以及對數函數"
   ]
  },
  {
   "cell_type": "markdown",
   "metadata": {
    "id": "Esjhs7zz2y95"
   },
   "source": [
    "題目:<br>\n",
    "運用投影片中的分貝公式回答下列問題。<br>\n",
    "1.正常的談話的聲壓為20000微巴斯卡，請問多少分貝?<br>\n",
    "2.30分貝的聲壓會是50分貝的幾倍?\n"
   ]
  },
  {
   "cell_type": "code",
   "execution_count": 1,
   "metadata": {
    "id": "SKVoN9E82yQi"
   },
   "outputs": [],
   "source": [
    "import numpy as np "
   ]
  },
  {
   "cell_type": "code",
   "execution_count": 17,
   "metadata": {
    "id": "knBzIEbisYO_"
   },
   "outputs": [
    {
     "name": "stdout",
     "output_type": "stream",
     "text": [
      "GB = 60.0 db\n"
     ]
    }
   ],
   "source": [
    "#1.正常的談話的聲壓為20000微巴斯卡，請問多少分貝?\n",
    "#請寫下程式\n",
    "V1 = 20000\n",
    "V0 = 20\n",
    "GB=20*(np.log10(V1/V0))\n",
    "print (\"GB =\",GB,\"db\")"
   ]
  },
  {
   "cell_type": "code",
   "execution_count": null,
   "metadata": {
    "id": "5Vknqg8esbl_"
   },
   "outputs": [],
   "source": [
    "#2.30分貝的聲壓會是50分貝的幾倍?\n",
    "#公式移項過後可以得到 V1 = ?\n",
    "#請寫下程式\n",
    "V0 = 20\n",
    "# DB equation: GB=20*(log10(V1/V0))\n",
    "#Anti Log Equation: 10**(GB/20)=(V1/V0)\n",
    "## V0*(10**(GB/20))=V1\n"
   ]
  },
  {
   "cell_type": "code",
   "execution_count": 37,
   "metadata": {
    "id": "LjGnv4Q-1t7u"
   },
   "outputs": [
    {
     "data": {
      "text/plain": [
       "632.4555320336758"
      ]
     },
     "execution_count": 37,
     "metadata": {},
     "output_type": "execute_result"
    }
   ],
   "source": [
    "GB= 30\n",
    "V11 = V0*(10**(GB/20))\n",
    "V11"
   ]
  },
  {
   "cell_type": "code",
   "execution_count": 38,
   "metadata": {},
   "outputs": [
    {
     "data": {
      "text/plain": [
       "6324.555320336759"
      ]
     },
     "execution_count": 38,
     "metadata": {},
     "output_type": "execute_result"
    }
   ],
   "source": [
    "GB2=50\n",
    "V12 = V0*(10**(GB2/20))\n",
    "V12"
   ]
  },
  {
   "cell_type": "code",
   "execution_count": 39,
   "metadata": {},
   "outputs": [
    {
     "data": {
      "text/plain": [
       "0.09999999999999999"
      ]
     },
     "execution_count": 39,
     "metadata": {},
     "output_type": "execute_result"
    }
   ],
   "source": [
    "V11/V12"
   ]
  }
 ],
 "metadata": {
  "colab": {
   "authorship_tag": "ABX9TyNuy8nFyZsCqfcHKKs2ys9H",
   "collapsed_sections": [],
   "name": "作業_Hong題目.ipynb",
   "provenance": []
  },
  "kernelspec": {
   "display_name": "Python 3",
   "language": "python",
   "name": "python3"
  },
  "language_info": {
   "codemirror_mode": {
    "name": "ipython",
    "version": 3
   },
   "file_extension": ".py",
   "mimetype": "text/x-python",
   "name": "python",
   "nbconvert_exporter": "python",
   "pygments_lexer": "ipython3",
   "version": "3.7.0"
  }
 },
 "nbformat": 4,
 "nbformat_minor": 1
}
