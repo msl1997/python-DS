{
 "cells": [
  {
   "cell_type": "markdown",
   "metadata": {
    "id": "oef8c2jr-PZY"
   },
   "source": [
    "作業目標<br>\n",
    "計算有缺失值的資料，統計量實作<br>\n",
    "作業重點<br>\n",
    "當遇到缺失值有函式可以處理，不須額外寫程式刪除<br>\n",
    "計算統計量時不能出現缺失值"
   ]
  },
  {
   "cell_type": "markdown",
   "metadata": {
    "id": "4YgL8NF4-Ru3"
   },
   "source": [
    "題目:<br>\n",
    "english_score = np.array([55,89,76,65,48,70])<br>\n",
    "math_score = np.array([60,85,60,68,np.nan,60])<br>\n",
    "chinese_score = np.array([65,90,82,72,66,77])<br>\n",
    "上3列共六位同學的英文、數學、國文成績，第一個元素代表第一位同學，舉例第一位同學英文55分、數學60分、國文65分，今天第五位同學因某原因沒來考試，導致數學成績缺值，運用上列數據回答下列問題。<br>\n",
    "1. 請計算各科成績平均、最大值、最小值、標準差，其中數學缺一筆資料可忽略?\n",
    "2. 第五位同學補考數學後成績為55，請計算補考後數學成績平均、最大值、最小值、標準差?\n",
    "3. 用補考後資料找出與國文成績相關係數最高的學科?"
   ]
  },
  {
   "cell_type": "code",
   "execution_count": 1,
   "metadata": {
    "executionInfo": {
     "elapsed": 617,
     "status": "ok",
     "timestamp": 1609854566856,
     "user": {
      "displayName": "献竤黃",
      "photoUrl": "",
      "userId": "07529243043474362942"
     },
     "user_tz": -480
    },
    "id": "QwsKU8qO-RK7"
   },
   "outputs": [],
   "source": [
    "import numpy as np"
   ]
  },
  {
   "cell_type": "code",
   "execution_count": 2,
   "metadata": {
    "executionInfo": {
     "elapsed": 1016,
     "status": "ok",
     "timestamp": 1609854567261,
     "user": {
      "displayName": "献竤黃",
      "photoUrl": "",
      "userId": "07529243043474362942"
     },
     "user_tz": -480
    },
    "id": "B5BqDQAe_czh"
   },
   "outputs": [],
   "source": [
    "english_score = np.array([55,89,76,65,48,70])\n",
    "math_score = np.array([60,85,60,68,np.nan,60])\n",
    "chinese_score = np.array([65,90,82,72,66,77])"
   ]
  },
  {
   "cell_type": "code",
   "execution_count": 3,
   "metadata": {
    "executionInfo": {
     "elapsed": 1005,
     "status": "ok",
     "timestamp": 1609854567262,
     "user": {
      "displayName": "献竤黃",
      "photoUrl": "",
      "userId": "07529243043474362942"
     },
     "user_tz": -480
    },
    "id": "K3tUA6u9aI3N"
   },
   "outputs": [
    {
     "name": "stdout",
     "output_type": "stream",
     "text": [
      "English average score: 67.16666666666667\n",
      "Maths average score: 66.6\n",
      "Chinese average score: 75.33333333333333\n",
      "English Max score: 89\n",
      "Maths Max score: 85.0\n",
      "Chinese Max score: 90\n",
      "English Min score: 48\n",
      "Maths Min score: 60.0\n",
      "Chinese Min score: 65\n",
      "English STD score: 13.433995020924426\n",
      "Maths STD score: 9.707728879609279\n",
      "Chinese STD score: 8.825468196582484\n"
     ]
    }
   ],
   "source": [
    "#1. 請計算各科成績平均、最大值、最小值、標準差，其中數學缺一筆資料可忽略?\n",
    "#科成績平均\n",
    "em=np.mean(english_score)\n",
    "print (\"English average score:\",em)\n",
    "mm=np.nanmean(math_score)\n",
    "print (\"Maths average score:\",mm)\n",
    "cm=np.mean(chinese_score)\n",
    "print (\"Chinese average score:\",cm)\n",
    "\n",
    "#最大值\n",
    "emax=np.nanmax(english_score)\n",
    "print (\"English Max score:\",emax)\n",
    "mmax=np.nanmax(math_score)\n",
    "print (\"Maths Max score:\",mmax)\n",
    "cmax=np.nanmax(chinese_score)\n",
    "print (\"Chinese Max score:\",cmax)\n",
    "\n",
    "#最小值\n",
    "emin=np.nanmin(english_score)\n",
    "print (\"English Min score:\",emin)\n",
    "mmin=np.nanmin(math_score)\n",
    "print (\"Maths Min score:\",mmin)\n",
    "cmin=np.nanmin(chinese_score)\n",
    "print (\"Chinese Min score:\",cmin)\n",
    "\n",
    "\n",
    "#標準差\n",
    "estd=np.nanstd(english_score)\n",
    "print (\"English STD score:\",estd)\n",
    "mstd=np.nanstd(math_score)\n",
    "print (\"Maths STD score:\",mstd)\n",
    "cstd=np.nanstd(chinese_score)\n",
    "print (\"Chinese STD score:\",cstd)\n",
    "\n"
   ]
  },
  {
   "cell_type": "code",
   "execution_count": 4,
   "metadata": {
    "executionInfo": {
     "elapsed": 996,
     "status": "ok",
     "timestamp": 1609854567262,
     "user": {
      "displayName": "献竤黃",
      "photoUrl": "",
      "userId": "07529243043474362942"
     },
     "user_tz": -480
    },
    "id": "mXjDzvSrbLlf"
   },
   "outputs": [
    {
     "data": {
      "text/plain": [
       "array([60., 85., 60., 68., 55., 60.])"
      ]
     },
     "execution_count": 4,
     "metadata": {},
     "output_type": "execute_result"
    }
   ],
   "source": [
    "#2. 第五位同學補考數學後成績為55，請計算補考後數學成績平均、最大值、最小值、標準差?\n",
    "math_score[4] = 55\n",
    "math_score"
   ]
  },
  {
   "cell_type": "code",
   "execution_count": 5,
   "metadata": {},
   "outputs": [
    {
     "name": "stdout",
     "output_type": "stream",
     "text": [
      "Maths average score: 64.66666666666667\n",
      "Maths Max score: 85.0\n",
      "Maths Min score: 55.0\n",
      "Maths STD score: 9.860132971832694\n"
     ]
    }
   ],
   "source": [
    "mm=np.nanmean(math_score)\n",
    "print (\"Maths average score:\",mm)\n",
    "mmax=np.nanmax(math_score)\n",
    "print (\"Maths Max score:\",mmax)\n",
    "mmin=np.nanmin(math_score)\n",
    "print (\"Maths Min score:\",mmin)\n",
    "mstd=np.nanstd(math_score)\n",
    "print (\"Maths STD score:\",mstd)"
   ]
  },
  {
   "cell_type": "code",
   "execution_count": 9,
   "metadata": {
    "executionInfo": {
     "elapsed": 987,
     "status": "ok",
     "timestamp": 1609854567264,
     "user": {
      "displayName": "献竤黃",
      "photoUrl": "",
      "userId": "07529243043474362942"
     },
     "user_tz": -480
    },
    "id": "fTNlLZ9Pzyiy"
   },
   "outputs": [
    {
     "data": {
      "text/plain": [
       "array([[1.        , 0.74056803],\n",
       "       [0.74056803, 1.        ]])"
      ]
     },
     "execution_count": 9,
     "metadata": {},
     "output_type": "execute_result"
    }
   ],
   "source": [
    "#3. 用補考後資料找出與國文成績相關係數最高的學科?\n",
    "np.corrcoef(chinese_score,math_score)"
   ]
  }
 ],
 "metadata": {
  "colab": {
   "authorship_tag": "ABX9TyPtywwDR7TsGGEOMGYLDT5h",
   "collapsed_sections": [],
   "name": "作業Hong題目.ipynb",
   "provenance": []
  },
  "kernelspec": {
   "display_name": "Python 3",
   "language": "python",
   "name": "python3"
  },
  "language_info": {
   "codemirror_mode": {
    "name": "ipython",
    "version": 3
   },
   "file_extension": ".py",
   "mimetype": "text/x-python",
   "name": "python",
   "nbconvert_exporter": "python",
   "pygments_lexer": "ipython3",
   "version": "3.7.0"
  }
 },
 "nbformat": 4,
 "nbformat_minor": 1
}
